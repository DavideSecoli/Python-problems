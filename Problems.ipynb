{
 "cells": [
  {
   "cell_type": "markdown",
   "metadata": {},
   "source": [
    "### Problem 1 "
   ]
  },
  {
   "cell_type": "code",
   "execution_count": 1,
   "metadata": {},
   "outputs": [],
   "source": [
    "# Input: 5, -3, 9, 0, -2, -8, 6, \"Enter\""
   ]
  },
  {
   "cell_type": "code",
   "execution_count": 2,
   "metadata": {},
   "outputs": [],
   "source": [
    "def countNegatives():\n",
    "    \n",
    "    negative = 0\n",
    "    \n",
    "    a = [int(x) for x in input().split()]\n",
    "    \n",
    "    for i in a:    \n",
    "        if i < 0:\n",
    "            negative += 1\n",
    "    \n",
    "    if negative == 1:\n",
    "        print('There is {} negative number'.format(negative))\n",
    "    else:\n",
    "        print('There are {} negative numbers'.format(negative))"
   ]
  },
  {
   "cell_type": "code",
   "execution_count": 3,
   "metadata": {},
   "outputs": [
    {
     "name": "stdout",
     "output_type": "stream",
     "text": [
      "5 -3 9 0 -2 -8 6\n",
      "There are 3 negative numbers\n"
     ]
    }
   ],
   "source": [
    "countNegatives()"
   ]
  },
  {
   "cell_type": "markdown",
   "metadata": {},
   "source": [
    "### Problem 2"
   ]
  },
  {
   "cell_type": "code",
   "execution_count": null,
   "metadata": {},
   "outputs": [],
   "source": [
    "'''\n",
    "Test cases:\n",
    "a) 2.3, 4.5, 1, Enter # returns 4.5 \n",
    "b) 0, Enter # returns 0.0\n",
    "c) 1, 1, 1, 1, 0, Enter # returns 1.0\n",
    "d) -4, -6, -2, Enter # returns -2.0\n",
    "**** [Optional]: Drop the assumption. \n",
    "If no number is entered, print \"No number entered\"\n",
    "Your program will still print out \"The largest number is None\n",
    "'''"
   ]
  },
  {
   "cell_type": "code",
   "execution_count": 4,
   "metadata": {},
   "outputs": [],
   "source": [
    "def findMax():\n",
    "    \n",
    "    negative = 0\n",
    "    \n",
    "    a = [float(x) for x in input().split()] \n",
    "    \n",
    "    x = 0\n",
    "    \n",
    "    for i in a:\n",
    "        if i > x:\n",
    "            x = i\n",
    "    \n",
    "    if x == 0:\n",
    "        print('No number entered')\n",
    "    \n",
    "    print('The largest number is {}'.format(x))"
   ]
  },
  {
   "cell_type": "code",
   "execution_count": 5,
   "metadata": {},
   "outputs": [
    {
     "name": "stdout",
     "output_type": "stream",
     "text": [
      "2.3 4.5 1\n",
      "The largest number is 4.5\n"
     ]
    }
   ],
   "source": [
    "findMax()"
   ]
  },
  {
   "cell_type": "markdown",
   "metadata": {},
   "source": [
    "### Problem 3"
   ]
  },
  {
   "cell_type": "code",
   "execution_count": 6,
   "metadata": {},
   "outputs": [],
   "source": [
    "def sumOddSquares(start, stopInc):\n",
    "    \n",
    "    odd = []\n",
    "    oddSquared = []\n",
    "    \n",
    "    if start > stopInc:\n",
    "        for i in range(start, stopInc-1,-1):\n",
    "            if i % 2 != 0:\n",
    "                odd.append(i)\n",
    "                oddSquared.append(i*i)\n",
    "        print('{}^2 + ... + {}^2 = {} '.format(odd[0],odd[-1],sum(oddSquared)), end='')\n",
    "    \n",
    "    if start < stopInc:\n",
    "        for i in range(start, stopInc+1):\n",
    "                if i % 2 != 0:\n",
    "                    odd.append(i)\n",
    "                    oddSquared.append(i*i)\n",
    "        print('{}^2 + ... + {}^2 = {} '.format(odd[0],odd[-1],sum(oddSquared)), end='')\n"
   ]
  },
  {
   "cell_type": "code",
   "execution_count": 7,
   "metadata": {},
   "outputs": [
    {
     "name": "stdout",
     "output_type": "stream",
     "text": [
      "3^2 + ... + 1^2 = 10 3^2 + ... + 5^2 = 34 3^2 + ... + 99^2 = 166649 3^2 + ... + 99^2 = 166649 3^2 + ... + 99^2 = 166649 "
     ]
    }
   ],
   "source": [
    "# note there is a typo on sumOddSquares(3, 1) expected output: 3^2 + ... + 1^2 = 0. should = 10 !\n",
    "sumOddSquares(3, 1)\n",
    "sumOddSquares(3, 5)\n",
    "sumOddSquares(3, 99)\n",
    "sumOddSquares(3, 100)\n",
    "sumOddSquares(2, 100)"
   ]
  },
  {
   "cell_type": "markdown",
   "metadata": {},
   "source": [
    "### Problem 4"
   ]
  },
  {
   "cell_type": "code",
   "execution_count": null,
   "metadata": {},
   "outputs": [],
   "source": [
    "'''\n",
    "Test cases:\n",
    "Call the function three times: \n",
    "joinedTriangles(1)\n",
    "joinedTriangles(5)\n",
    "joinedTriangles(8)\n",
    "'''"
   ]
  },
  {
   "cell_type": "code",
   "execution_count": 8,
   "metadata": {},
   "outputs": [],
   "source": [
    "def joinedTriangles(side):\n",
    "    \n",
    "    for i in reversed(range(side+1)):\n",
    "        print('*' * i)\n",
    "        if i < 2:\n",
    "            for i in range(2,side+1):\n",
    "                print('*' * i)\n",
    "            break"
   ]
  },
  {
   "cell_type": "code",
   "execution_count": 9,
   "metadata": {},
   "outputs": [
    {
     "name": "stdout",
     "output_type": "stream",
     "text": [
      "********\n",
      "*******\n",
      "******\n",
      "*****\n",
      "****\n",
      "***\n",
      "**\n",
      "*\n",
      "**\n",
      "***\n",
      "****\n",
      "*****\n",
      "******\n",
      "*******\n",
      "********\n"
     ]
    }
   ],
   "source": [
    "joinedTriangles(8)"
   ]
  },
  {
   "cell_type": "markdown",
   "metadata": {},
   "source": [
    "### Problem 5"
   ]
  },
  {
   "cell_type": "code",
   "execution_count": null,
   "metadata": {},
   "outputs": [],
   "source": [
    "'''\n",
    "Test cases:\n",
    "Call the function three times as \n",
    "encode(\"Help\", 0, 0)\n",
    "encode(\"Take the red\", 2, 0)\n",
    "encode(\"Meet at midnight\", 3, 2)\n",
    "'''"
   ]
  },
  {
   "cell_type": "code",
   "execution_count": 10,
   "metadata": {},
   "outputs": [],
   "source": [
    "import random\n",
    "import string"
   ]
  },
  {
   "cell_type": "code",
   "execution_count": 11,
   "metadata": {},
   "outputs": [],
   "source": [
    "def encode(myString, numBefore, numAfter):\n",
    "    \n",
    "    \n",
    "    for i in myString:\n",
    "        before = ''.join(random.choice(string.ascii_letters) for x in range(numBefore))\n",
    "        after = ''.join(random.choice(string.ascii_letters) for x in range(numAfter))\n",
    "    \n",
    "        print('{}{}{}'.format(before,i,after), end='')"
   ]
  },
  {
   "cell_type": "code",
   "execution_count": 12,
   "metadata": {},
   "outputs": [
    {
     "name": "stdout",
     "output_type": "stream",
     "text": [
      "HwyMfENoYesgadsefHhdRtQONmS ZJCyIaILiMltpSgxX SqlISmWnOrfijcCZqdDybxonkJAYjivrozcgxyObBhhnkvAtDX"
     ]
    }
   ],
   "source": [
    "encode(\"Meet at midnight\", 3, 2)"
   ]
  },
  {
   "cell_type": "markdown",
   "metadata": {},
   "source": [
    "### Problem 6"
   ]
  },
  {
   "cell_type": "code",
   "execution_count": null,
   "metadata": {},
   "outputs": [],
   "source": [
    "'''\n",
    "Test Cases\n",
    "Call the function 4 times:\n",
    "print(isPrime(1))\n",
    "print(isPrime(2))\n",
    "print(isPrime(17))\n",
    "print(isPrime(91))\n",
    "They should return F, T, T, F, respectively\n",
    "'''"
   ]
  },
  {
   "cell_type": "code",
   "execution_count": 13,
   "metadata": {},
   "outputs": [],
   "source": [
    "def isPrime(num):\n",
    "    if num >= 2:\n",
    "        for y in range(2,num):\n",
    "            if not ( num % y ):\n",
    "                return('F')\n",
    "    else:\n",
    "        return('F')\n",
    "        \n",
    "    return('T')"
   ]
  },
  {
   "cell_type": "code",
   "execution_count": 14,
   "metadata": {},
   "outputs": [
    {
     "name": "stdout",
     "output_type": "stream",
     "text": [
      "F\n"
     ]
    }
   ],
   "source": [
    "print(isPrime(91))"
   ]
  }
 ],
 "metadata": {
  "kernelspec": {
   "display_name": "Python 3",
   "language": "python",
   "name": "python3"
  },
  "language_info": {
   "codemirror_mode": {
    "name": "ipython",
    "version": 3
   },
   "file_extension": ".py",
   "mimetype": "text/x-python",
   "name": "python",
   "nbconvert_exporter": "python",
   "pygments_lexer": "ipython3",
   "version": "3.6.5"
  }
 },
 "nbformat": 4,
 "nbformat_minor": 2
}
